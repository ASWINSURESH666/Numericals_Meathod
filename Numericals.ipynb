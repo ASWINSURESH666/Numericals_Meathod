{
  "nbformat": 4,
  "nbformat_minor": 0,
  "metadata": {
    "colab": {
      "provenance": [],
      "authorship_tag": "ABX9TyN0HnJ8q2Sipo1fvjG61WZc",
      "include_colab_link": true
    },
    "kernelspec": {
      "name": "python3",
      "display_name": "Python 3"
    },
    "language_info": {
      "name": "python"
    }
  },
  "cells": [
    {
      "cell_type": "markdown",
      "metadata": {
        "id": "view-in-github",
        "colab_type": "text"
      },
      "source": [
        "<a href=\"https://colab.research.google.com/github/ASWINSURESH666/Numericals_Meathod/blob/main/Numericals.ipynb\" target=\"_parent\"><img src=\"https://colab.research.google.com/assets/colab-badge.svg\" alt=\"Open In Colab\"/></a>"
      ]
    },
    {
      "cell_type": "code",
      "source": [
        "''' Bisect Meathod'''\n",
        "\n",
        "# Write a program to find the roots of a non linear equation using Bisection method\n",
        "\n",
        "def bisect(function : str, a : int, b : int, Epsilon : float):\n",
        "    if function(a) * function(b) >= 0:\n",
        "        return None\n",
        "    c = None\n",
        "    i : int = 0\n",
        "    dec : int = get_decimals(Epsilon)\n",
        "    while ((b-a) >= Epsilon):\n",
        "        c = (a + b) / 2\n",
        "        if function(c) == 0.0:\n",
        "            break\n",
        "        if function(c) * function(a) < 0:\n",
        "            b = c\n",
        "        else:\n",
        "            a = c\n",
        "        i = i + 1\n",
        "        print(f\"Iteration {i}; a = \", trim_float(f\"{a:.{dec}f}\"), \", b = \", trim_float(f\"{b:.{dec}f}\"), \", c = \", trim_float(f\"{c:.{dec}f}\"), \"f(c) = \", trim_float(f\"{function(c):.{dec}f}\"))\n",
        "    return c\n",
        "\n",
        "def get_decimals(Epsilon : float) -> int:\n",
        "    s = str(Epsilon)\n",
        "    if 'e' in s:\n",
        "        return int(s.split('e-')[1])\n",
        "    else:\n",
        "        return len(s) - s.index('.') - 1\n",
        "\n",
        "def trim_float(number : float) -> float:\n",
        "    return str(number).rstrip('0').rstrip('.') if '.' in str(number) else number\n",
        "\n",
        "def main():\n",
        "    function = input(\"Enter the function in terms of x: \")\n",
        "    a = int(input(\"Enter the value of a: \"))\n",
        "    b = int(input(\"Enter the value of b: \"))\n",
        "    Epsilon = float(input(\"Enter the value of ε: \"))\n",
        "    func = lambda x: eval(function)\n",
        "    root = bisect(func, a, b, Epsilon)\n",
        "    if root is not None:\n",
        "        print(f\"The value of root is :  {root:.{get_decimals(Epsilon)}f}\")\n",
        "    else:\n",
        "        print(\"Can't find root in given interval\")\n",
        "\n",
        "if __name__ == \"__main__\":\n",
        "    main()"
      ],
      "metadata": {
        "id": "M-b9SDNYx2IQ",
        "colab": {
          "base_uri": "https://localhost:8080/"
        },
        "outputId": "fb1126ff-922b-4c54-e9d8-1538dd3a26c5"
      },
      "execution_count": null,
      "outputs": [
        {
          "output_type": "stream",
          "name": "stdout",
          "text": [
            "Enter the function in terms of x: x**6-x-6\n",
            "Enter the value of a: 1\n",
            "Enter the value of b: 2\n",
            "Enter the value of ε: 0.0005\n",
            "Iteration 1; a =  1 , b =  1.5 , c =  1.5 f(c) =  3.8906\n",
            "Iteration 2; a =  1.25 , b =  1.5 , c =  1.25 f(c) =  -3.4353\n",
            "Iteration 3; a =  1.375 , b =  1.5 , c =  1.375 f(c) =  -0.617\n",
            "Iteration 4; a =  1.375 , b =  1.4375 , c =  1.4375 f(c) =  1.3861\n",
            "Iteration 5; a =  1.375 , b =  1.4062 , c =  1.4062 f(c) =  0.3272\n",
            "Iteration 6; a =  1.3906 , b =  1.4062 , c =  1.3906 f(c) =  -0.1586\n",
            "Iteration 7; a =  1.3906 , b =  1.3984 , c =  1.3984 f(c) =  0.0808\n",
            "Iteration 8; a =  1.3945 , b =  1.3984 , c =  1.3945 f(c) =  -0.0398\n",
            "Iteration 9; a =  1.3945 , b =  1.3965 , c =  1.3965 f(c) =  0.0203\n",
            "Iteration 10; a =  1.3955 , b =  1.3965 , c =  1.3955 f(c) =  -0.0098\n",
            "Iteration 11; a =  1.3955 , b =  1.396 , c =  1.396 f(c) =  0.0053\n",
            "The value of root is :  1.3960\n"
          ]
        }
      ]
    },
    {
      "cell_type": "code",
      "source": [
        "''' regula falsi'''\n",
        "\n",
        "def regula_falsi(func, a, b, E):\n",
        "\n",
        "    while True:\n",
        "        c = (a * solve_fn(func, b) - b * solve_fn(func, a)) / (solve_fn(func, b) - solve_fn(func, a))\n",
        "\n",
        "        if abs(solve_fn(func, c)) <= E:\n",
        "            return c\n",
        "\n",
        "        elif solve_fn(func, c) * solve_fn(func, a) < 0:\n",
        "            b = c\n",
        "\n",
        "        else:\n",
        "            a = c\n",
        "\n",
        "\n",
        "def solve_fn(eq, x):\n",
        "    return eval(eq)\n",
        "\n",
        "\n",
        "def main():\n",
        "    eq = input(\"Enter x : \")\n",
        "    E = float(input(\"Enter the value of ε: \"))\n",
        "    l = float(input(\"Enter the lower bound: \"))\n",
        "    u = float(input(\"Enter the upper bound: \"))\n",
        "\n",
        "    print(\"THE ROOT OF THE EQUATION IS:\", regula_falsi(eq, l, u, E))\n",
        "\n",
        "\n",
        "if __name__ == \"__main__\":\n",
        "    main()\n"
      ],
      "metadata": {
        "colab": {
          "base_uri": "https://localhost:8080/"
        },
        "id": "ERYjcpk4ovI0",
        "outputId": "f197923a-ee8b-4405-c544-0696edeea6b9"
      },
      "execution_count": null,
      "outputs": [
        {
          "output_type": "stream",
          "name": "stdout",
          "text": [
            "Enter x : x**3-4*x-9\n",
            "Enter the value of ε: 0.0005\n",
            "Enter the lower bound: 2\n",
            "Enter the upper bound: 3\n",
            "THE ROOT OF THE EQUATION IS: 2.706504468564353\n"
          ]
        }
      ]
    },
    {
      "cell_type": "code",
      "source": [
        "''' newton raphson'''\n",
        "\n",
        "import sympy as sp\n",
        "\n",
        "def calculate_derivative(equation, variable='x'):\n",
        "    x = sp.symbols(variable)\n",
        "    expression = sp.sympify(equation)\n",
        "    derivative = sp.diff(expression, x)\n",
        "    return derivative\n",
        "\n",
        "def newton_raphson(func, derivative_func, x0, tol=10^-6, max_iter=100):\n",
        "    x = x0\n",
        "    iterations = 0\n",
        "\n",
        "    while abs(func(x)) > tol and iterations < max_iter:\n",
        "        x = x - func(x) / derivative_func(x)\n",
        "        iterations += 1\n",
        "\n",
        "    return x, iterations\n",
        "\n",
        "equation = input(\"Enter x : \")\n",
        "\n",
        "\n",
        "x = sp.symbols('x')\n",
        "user_function = sp.sympify(equation)\n",
        "user_derivative = sp.diff(user_function, x)\n",
        "\n",
        "func = sp.lambdify(x, user_function, 'numpy')\n",
        "derivative_func = sp.lambdify(x, user_derivative, 'numpy')\n",
        "\n",
        "\n",
        "initial_guess = float(input(\"\\nEnter the first guessed root: \"))\n",
        "\n",
        "root, iterations = newton_raphson(func, derivative_func, initial_guess)\n",
        "\n",
        "print(f\"\\nThe root of the equation is: {root}\")\n",
        "print(f\"\\nThe number of Iterations: {iterations}\")\n"
      ],
      "metadata": {
        "colab": {
          "base_uri": "https://localhost:8080/"
        },
        "id": "FREgDfR5sYz5",
        "outputId": "2292f9e5-e1f9-4790-b71e-86328db47ff3"
      },
      "execution_count": null,
      "outputs": [
        {
          "output_type": "stream",
          "name": "stdout",
          "text": [
            "Enter x : x**3-x-1\n",
            "\n",
            "Enter the first guessed root: 1\n",
            "\n",
            "The root of the equation is: 1.324717957244746\n",
            "\n",
            "The number of Iterations: 100\n"
          ]
        }
      ]
    },
    {
      "cell_type": "code",
      "source": [
        "def fn(x):\n",
        "  return x**3-13*x-12\n",
        "\n",
        "def Muller(x0, x1, x2, iter):\n",
        "  icount=0\n",
        "  for i in range(0, iter):\n",
        "\n",
        "    f0=fn(x0)\n",
        "    f1=fn(x1)\n",
        "    f2=fn(x2)\n",
        "\n",
        "    h0=x1-x0\n",
        "    h1=x2-x1\n",
        "\n",
        "    d0=(f1-f0)/(x1-x0)\n",
        "    d1=(f2-f1)/(x2-x1)\n",
        "\n",
        "    a=(d1-d0)/(h0+h1)\n",
        "    b=a*h1+d1\n",
        "    c=f2\n",
        "\n",
        "    d=((b**2)-(4*a*c))**0.5\n",
        "    r1=b+d\n",
        "    r2=b-d\n",
        "\n",
        "    if r1>r2:\n",
        "      r=r1\n",
        "    elif r2>r1:\n",
        "      r=r2\n",
        "\n",
        "    x3=x2-((2*c)/r)\n",
        "    E=((x3-x2)/x3)*100\n",
        "    icount=icount+1\n",
        "\n",
        "    print(\"x0 = \",x0)\n",
        "    print(\"x1 = \",x1)\n",
        "    print(\"x2 = \",x2)\n",
        "    print(\"The resultant x3 = \",x3)\n",
        "    print(\"Error = \", abs(E))\n",
        "    print(\"Iteration: \", icount)\n",
        "    print(\"\")\n",
        "\n",
        "    x0=x1\n",
        "    x1=x2\n",
        "    x2=x3\n",
        "\n",
        "\n",
        "iter=5\n",
        "x0=4.5\n",
        "x1=5.5\n",
        "x2=5\n",
        "\n",
        "Muller(x0, x1, x2, iter)\n"
      ],
      "metadata": {
        "colab": {
          "base_uri": "https://localhost:8080/"
        },
        "id": "nnkCm15pkxXA",
        "outputId": "edf2b0b1-9711-4fe8-be75-d67bfe2b4da1"
      },
      "execution_count": 2,
      "outputs": [
        {
          "output_type": "stream",
          "name": "stdout",
          "text": [
            "x0 =  4.5\n",
            "x1 =  5.5\n",
            "x2 =  5\n",
            "The resultant x3 =  3.9764870422406546\n",
            "Error =  25.739124681835264\n",
            "Iteration:  1\n",
            "\n",
            "x0 =  5.5\n",
            "x1 =  5\n",
            "x2 =  3.9764870422406546\n",
            "The resultant x3 =  4.001050498815179\n",
            "Error =  0.6139251824439106\n",
            "Iteration:  2\n",
            "\n",
            "x0 =  5\n",
            "x1 =  3.9764870422406546\n",
            "x2 =  4.001050498815179\n",
            "The resultant x3 =  4.000000705270523\n",
            "Error =  0.026244833988969093\n",
            "Iteration:  3\n",
            "\n",
            "x0 =  3.9764870422406546\n",
            "x1 =  4.001050498815179\n",
            "x2 =  4.000000705270523\n",
            "The resultant x3 =  4.000000000000497\n",
            "Error =  1.7631750637290306e-05\n",
            "Iteration:  4\n",
            "\n",
            "x0 =  4.001050498815179\n",
            "x1 =  4.000000705270523\n",
            "x2 =  4.000000000000497\n",
            "The resultant x3 =  4.0\n",
            "Error =  1.2434497875801753e-11\n",
            "Iteration:  5\n",
            "\n"
          ]
        }
      ]
    },
    {
      "cell_type": "code",
      "source": [
        "def gauss_elimination(matrix):\n",
        "    n = len(matrix)\n",
        "\n",
        "    for i in range(n):\n",
        "      pivot=matrix[i][i]\n",
        "\n",
        "      for j in range(n):\n",
        "        if j != i:\n",
        "          eq=matrix[j][i]/pivot\n",
        "\n",
        "          for k in range(n+1):\n",
        "            matrix[j][k] -= eq * matrix[i][k]\n",
        "\n",
        "      pivot=matrix[i][i]\n",
        "      for j in range(n+1):\n",
        "        matrix[i][j] /= pivot\n",
        "\n",
        "matrix = [[2,2,1,6],\n",
        "            [4,2,3,4],\n",
        "            [1,1,1,0]]\n",
        "\n",
        "gauss_elimination(matrix)\n",
        "\n",
        "n = len(matrix)\n",
        "for i in range(n):\n",
        "  print(\"x\", i+1, \"=\",matrix[i][-1])"
      ],
      "metadata": {
        "colab": {
          "base_uri": "https://localhost:8080/"
        },
        "id": "GOG_sZKJj5XO",
        "outputId": "eb820d2d-4ba3-4f5e-dcce-56ea99e61870"
      },
      "execution_count": 14,
      "outputs": [
        {
          "output_type": "stream",
          "name": "stdout",
          "text": [
            "x 1 = 5.0\n",
            "x 2 = 1.0\n",
            "x 3 = -6.0\n"
          ]
        }
      ]
    }
  ]
}