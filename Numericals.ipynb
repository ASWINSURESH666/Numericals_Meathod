{
  "nbformat": 4,
  "nbformat_minor": 0,
  "metadata": {
    "colab": {
      "provenance": [],
      "authorship_tag": "ABX9TyM6ajyF3/rEa+HFoYgE2qj0",
      "include_colab_link": true
    },
    "kernelspec": {
      "name": "python3",
      "display_name": "Python 3"
    },
    "language_info": {
      "name": "python"
    }
  },
  "cells": [
    {
      "cell_type": "markdown",
      "metadata": {
        "id": "view-in-github",
        "colab_type": "text"
      },
      "source": [
        "<a href=\"https://colab.research.google.com/github/ASWINSURESH666/Numericals_Meathod/blob/main/Numericals.ipynb\" target=\"_parent\"><img src=\"https://colab.research.google.com/assets/colab-badge.svg\" alt=\"Open In Colab\"/></a>"
      ]
    },
    {
      "cell_type": "code",
      "source": [
        "''' Bisect Meathod'''\n",
        "\n",
        "# Write a program to find the roots of a non linear equation using Bisection method\n",
        "\n",
        "def bisect(function : str, a : int, b : int, Epsilon : float):\n",
        "    if function(a) * function(b) >= 0:\n",
        "        return None\n",
        "    c = None\n",
        "    i : int = 0\n",
        "    dec : int = get_decimals(Epsilon)\n",
        "    while ((b-a) >= Epsilon):\n",
        "        c = (a + b) / 2\n",
        "        if function(c) == 0.0:\n",
        "            break\n",
        "        if function(c) * function(a) < 0:\n",
        "            b = c\n",
        "        else:\n",
        "            a = c\n",
        "        i = i + 1\n",
        "        print(f\"Iteration {i}; a = \", trim_float(f\"{a:.{dec}f}\"), \", b = \", trim_float(f\"{b:.{dec}f}\"), \", c = \", trim_float(f\"{c:.{dec}f}\"), \"f(c) = \", trim_float(f\"{function(c):.{dec}f}\"))\n",
        "    return c\n",
        "\n",
        "def get_decimals(Epsilon : float) -> int:\n",
        "    s = str(Epsilon)\n",
        "    if 'e' in s:\n",
        "        return int(s.split('e-')[1])\n",
        "    else:\n",
        "        return len(s) - s.index('.') - 1\n",
        "\n",
        "def trim_float(number : float) -> float:\n",
        "    return str(number).rstrip('0').rstrip('.') if '.' in str(number) else number\n",
        "\n",
        "def main():\n",
        "    function = input(\"Enter the function in terms of x: \")\n",
        "    a = int(input(\"Enter the value of a: \"))\n",
        "    b = int(input(\"Enter the value of b: \"))\n",
        "    Epsilon = float(input(\"Enter the value of ε: \"))\n",
        "    func = lambda x: eval(function)\n",
        "    root = bisect(func, a, b, Epsilon)\n",
        "    if root is not None:\n",
        "        print(f\"The value of root is :  {root:.{get_decimals(Epsilon)}f}\")\n",
        "    else:\n",
        "        print(\"Can't find root in given interval\")\n",
        "\n",
        "if __name__ == \"__main__\":\n",
        "    main()"
      ],
      "metadata": {
        "id": "M-b9SDNYx2IQ",
        "colab": {
          "base_uri": "https://localhost:8080/"
        },
        "outputId": "fb1126ff-922b-4c54-e9d8-1538dd3a26c5"
      },
      "execution_count": null,
      "outputs": [
        {
          "output_type": "stream",
          "name": "stdout",
          "text": [
            "Enter the function in terms of x: x**6-x-6\n",
            "Enter the value of a: 1\n",
            "Enter the value of b: 2\n",
            "Enter the value of ε: 0.0005\n",
            "Iteration 1; a =  1 , b =  1.5 , c =  1.5 f(c) =  3.8906\n",
            "Iteration 2; a =  1.25 , b =  1.5 , c =  1.25 f(c) =  -3.4353\n",
            "Iteration 3; a =  1.375 , b =  1.5 , c =  1.375 f(c) =  -0.617\n",
            "Iteration 4; a =  1.375 , b =  1.4375 , c =  1.4375 f(c) =  1.3861\n",
            "Iteration 5; a =  1.375 , b =  1.4062 , c =  1.4062 f(c) =  0.3272\n",
            "Iteration 6; a =  1.3906 , b =  1.4062 , c =  1.3906 f(c) =  -0.1586\n",
            "Iteration 7; a =  1.3906 , b =  1.3984 , c =  1.3984 f(c) =  0.0808\n",
            "Iteration 8; a =  1.3945 , b =  1.3984 , c =  1.3945 f(c) =  -0.0398\n",
            "Iteration 9; a =  1.3945 , b =  1.3965 , c =  1.3965 f(c) =  0.0203\n",
            "Iteration 10; a =  1.3955 , b =  1.3965 , c =  1.3955 f(c) =  -0.0098\n",
            "Iteration 11; a =  1.3955 , b =  1.396 , c =  1.396 f(c) =  0.0053\n",
            "The value of root is :  1.3960\n"
          ]
        }
      ]
    },
    {
      "cell_type": "code",
      "source": [
        "''' regula falsi'''\n",
        "\n",
        "def regula_falsi(func, a, b, E):\n",
        "\n",
        "    while True:\n",
        "        c = (a * solve_fn(func, b) - b * solve_fn(func, a)) / (solve_fn(func, b) - solve_fn(func, a))\n",
        "\n",
        "        if abs(solve_fn(func, c)) <= E:\n",
        "            return c\n",
        "\n",
        "        elif solve_fn(func, c) * solve_fn(func, a) < 0:\n",
        "            b = c\n",
        "\n",
        "        else:\n",
        "            a = c\n",
        "\n",
        "\n",
        "def solve_fn(eq, x):\n",
        "    return eval(eq)\n",
        "\n",
        "\n",
        "def main():\n",
        "    eq = input(\"Enter x : \")\n",
        "    E = float(input(\"Enter the value of ε: \"))\n",
        "    l = float(input(\"Enter the lower bound: \"))\n",
        "    u = float(input(\"Enter the upper bound: \"))\n",
        "\n",
        "    print(\"THE ROOT OF THE EQUATION IS:\", regula_falsi(eq, l, u, E))\n",
        "\n",
        "\n",
        "if __name__ == \"__main__\":\n",
        "    main()\n"
      ],
      "metadata": {
        "colab": {
          "base_uri": "https://localhost:8080/"
        },
        "id": "ERYjcpk4ovI0",
        "outputId": "f197923a-ee8b-4405-c544-0696edeea6b9"
      },
      "execution_count": null,
      "outputs": [
        {
          "output_type": "stream",
          "name": "stdout",
          "text": [
            "Enter x : x**3-4*x-9\n",
            "Enter the value of ε: 0.0005\n",
            "Enter the lower bound: 2\n",
            "Enter the upper bound: 3\n",
            "THE ROOT OF THE EQUATION IS: 2.706504468564353\n"
          ]
        }
      ]
    },
    {
      "cell_type": "code",
      "source": [
        "''' newton raphson'''\n",
        "\n",
        "import sympy as sp\n",
        "\n",
        "def calculate_derivative(equation, variable='x'):\n",
        "    x = sp.symbols(variable)\n",
        "    expression = sp.sympify(equation)\n",
        "    derivative = sp.diff(expression, x)\n",
        "    return derivative\n",
        "\n",
        "def newton_raphson(func, derivative_func, x0, tol=10^-6, max_iter=100):\n",
        "    x = x0\n",
        "    iterations = 0\n",
        "\n",
        "    while abs(func(x)) > tol and iterations < max_iter:\n",
        "        x = x - func(x) / derivative_func(x)\n",
        "        iterations += 1\n",
        "\n",
        "    return x, iterations\n",
        "\n",
        "equation = input(\"Enter x : \")\n",
        "\n",
        "\n",
        "x = sp.symbols('x')\n",
        "user_function = sp.sympify(equation)\n",
        "user_derivative = sp.diff(user_function, x)\n",
        "\n",
        "func = sp.lambdify(x, user_function, 'numpy')\n",
        "derivative_func = sp.lambdify(x, user_derivative, 'numpy')\n",
        "\n",
        "\n",
        "initial_guess = float(input(\"\\nEnter the first guessed root: \"))\n",
        "\n",
        "root, iterations = newton_raphson(func, derivative_func, initial_guess)\n",
        "\n",
        "print(f\"\\nThe root of the equation is: {root}\")\n",
        "print(f\"\\nThe number of Iterations: {iterations}\")\n"
      ],
      "metadata": {
        "colab": {
          "base_uri": "https://localhost:8080/"
        },
        "id": "FREgDfR5sYz5",
        "outputId": "2292f9e5-e1f9-4790-b71e-86328db47ff3"
      },
      "execution_count": null,
      "outputs": [
        {
          "output_type": "stream",
          "name": "stdout",
          "text": [
            "Enter x : x**3-x-1\n",
            "\n",
            "Enter the first guessed root: 1\n",
            "\n",
            "The root of the equation is: 1.324717957244746\n",
            "\n",
            "The number of Iterations: 100\n"
          ]
        }
      ]
    },
    {
      "cell_type": "code",
      "source": [
        "def fn(x):\n",
        "  return x**3-13*x-12\n",
        "\n",
        "def Muller(x0, x1, x2, iter):\n",
        "  icount=0\n",
        "  for i in range(0, iter):\n",
        "\n",
        "    f0=fn(x0)\n",
        "    f1=fn(x1)\n",
        "    f2=fn(x2)\n",
        "\n",
        "    h0=x1-x0\n",
        "    h1=x2-x1\n",
        "\n",
        "    d0=(f1-f0)/(x1-x0)\n",
        "    d1=(f2-f1)/(x2-x1)\n",
        "\n",
        "    a=(d1-d0)/(h0+h1)\n",
        "    b=a*h1+d1\n",
        "    c=f2\n",
        "\n",
        "    d=((b**2)-(4*a*c))**0.5\n",
        "    r1=b+d\n",
        "    r2=b-d\n",
        "\n",
        "    if r1>r2:\n",
        "      r=r1\n",
        "    elif r2>r1:\n",
        "      r=r2\n",
        "\n",
        "    x3=x2-((2*c)/r)\n",
        "    E=((x3-x2)/x3)*100\n",
        "    icount=icount+1\n",
        "\n",
        "    print(\"x0 = \",x0)\n",
        "    print(\"x1 = \",x1)\n",
        "    print(\"x2 = \",x2)\n",
        "    print(\"The resultant x3 = \",x3)\n",
        "    print(\"Error = \", abs(E))\n",
        "    print(\"Iteration: \", icount)\n",
        "    print(\"\")\n",
        "\n",
        "    x0=x1\n",
        "    x1=x2\n",
        "    x2=x3\n",
        "\n",
        "\n",
        "iter=5\n",
        "x0=4.5\n",
        "x1=5.5\n",
        "x2=5\n",
        "\n",
        "Muller(x0, x1, x2, iter)\n"
      ],
      "metadata": {
        "colab": {
          "base_uri": "https://localhost:8080/"
        },
        "id": "nnkCm15pkxXA",
        "outputId": "edf2b0b1-9711-4fe8-be75-d67bfe2b4da1"
      },
      "execution_count": null,
      "outputs": [
        {
          "output_type": "stream",
          "name": "stdout",
          "text": [
            "x0 =  4.5\n",
            "x1 =  5.5\n",
            "x2 =  5\n",
            "The resultant x3 =  3.9764870422406546\n",
            "Error =  25.739124681835264\n",
            "Iteration:  1\n",
            "\n",
            "x0 =  5.5\n",
            "x1 =  5\n",
            "x2 =  3.9764870422406546\n",
            "The resultant x3 =  4.001050498815179\n",
            "Error =  0.6139251824439106\n",
            "Iteration:  2\n",
            "\n",
            "x0 =  5\n",
            "x1 =  3.9764870422406546\n",
            "x2 =  4.001050498815179\n",
            "The resultant x3 =  4.000000705270523\n",
            "Error =  0.026244833988969093\n",
            "Iteration:  3\n",
            "\n",
            "x0 =  3.9764870422406546\n",
            "x1 =  4.001050498815179\n",
            "x2 =  4.000000705270523\n",
            "The resultant x3 =  4.000000000000497\n",
            "Error =  1.7631750637290306e-05\n",
            "Iteration:  4\n",
            "\n",
            "x0 =  4.001050498815179\n",
            "x1 =  4.000000705270523\n",
            "x2 =  4.000000000000497\n",
            "The resultant x3 =  4.0\n",
            "Error =  1.2434497875801753e-11\n",
            "Iteration:  5\n",
            "\n"
          ]
        }
      ]
    },
    {
      "cell_type": "code",
      "source": [
        "def gauss_elimination(matrix):\n",
        "    n = len(matrix)\n",
        "\n",
        "    for i in range(n):\n",
        "      pivot=matrix[i][i]\n",
        "\n",
        "      for j in range(n):\n",
        "        if j != i:\n",
        "          eq=matrix[j][i]/pivot\n",
        "\n",
        "          for k in range(n+1):\n",
        "            matrix[j][k] -= eq * matrix[i][k]\n",
        "\n",
        "      pivot=matrix[i][i]\n",
        "      for j in range(n+1):\n",
        "        matrix[i][j] /= pivot\n",
        "\n",
        "matrix = [[2,2,1,6],\n",
        "            [4,2,3,4],\n",
        "            [1,1,1,0]]\n",
        "\n",
        "gauss_elimination(matrix)\n",
        "\n",
        "n = len(matrix)\n",
        "for i in range(n):\n",
        "  print(\"x\", i+1, \"=\",matrix[i][-1])"
      ],
      "metadata": {
        "colab": {
          "base_uri": "https://localhost:8080/"
        },
        "id": "GOG_sZKJj5XO",
        "outputId": "eb820d2d-4ba3-4f5e-dcce-56ea99e61870"
      },
      "execution_count": null,
      "outputs": [
        {
          "output_type": "stream",
          "name": "stdout",
          "text": [
            "x 1 = 5.0\n",
            "x 2 = 1.0\n",
            "x 3 = -6.0\n"
          ]
        }
      ]
    },
    {
      "cell_type": "code",
      "source": [
        "# Gauss Jordan:\n",
        "\n",
        "def gauss_jordan(matrix):\n",
        "    n = len(matrix)                                                             # length of matrix as in rows\n",
        "\n",
        "    for i in range(n):\n",
        "        pivot = matrix[i][i]                                                    # choosing pivot: 00, 11, 22...\n",
        "\n",
        "        for j in range(i, n + 1):\n",
        "            matrix[i][j] /= pivot                                               # divide the whole row by the pivot\n",
        "\n",
        "        for j in range(n):\n",
        "            if j != i:                                                          # avoiding the pivot elements\n",
        "                eq = matrix[j][i]                                               # the equation to use for making the other elements 0\n",
        "                for k in range(i, n + 1):                                       # changing the elements along with the b vector\n",
        "                    matrix[j][k] -= eq * matrix[i][k]\n",
        "\n",
        "matrix = [[2, 2, 1, 6],\n",
        "          [4, 2, 3, 4],\n",
        "          [1, 1, 1, 0]]\n",
        "\n",
        "gauss_jordan(matrix)\n",
        "\n",
        "for i in range(len(matrix)):\n",
        "    print(\"x\", i + 1, \"=\", matrix[i][-1])"
      ],
      "metadata": {
        "colab": {
          "base_uri": "https://localhost:8080/"
        },
        "id": "jfD_vwcz4VA8",
        "outputId": "f22c6830-9c44-41ac-d949-81a40bd44ba7"
      },
      "execution_count": 1,
      "outputs": [
        {
          "output_type": "stream",
          "name": "stdout",
          "text": [
            "x 1 = 5.0\n",
            "x 2 = 1.0\n",
            "x 3 = -6.0\n"
          ]
        }
      ]
    },
    {
      "cell_type": "code",
      "source": [
        "# Gauss Seidel Method\n",
        "\n",
        "def gauss_seidel(matrix, initial_guess, tolerance=0.00001, max_iterations=100):\n",
        "    n = len(matrix)\n",
        "    x = initial_guess[:]\n",
        "    x_new = [0] * n\n",
        "\n",
        "    for _ in range(max_iterations):\n",
        "        max_error = 0.0\n",
        "        for i in range(n):\n",
        "            sum_ = sum(matrix[i][j] * x_new[j] for j in range(n) if j != i)\n",
        "            x_new[i] = (matrix[i][n] - sum_) / matrix[i][i]\n",
        "            error = abs(x_new[i] - x[i])\n",
        "            if error > max_error:\n",
        "                max_error = error\n",
        "\n",
        "        if max_error < tolerance:\n",
        "            return x_new\n",
        "\n",
        "        x = x_new[:]\n",
        "\n",
        "    raise ValueError(\"Gauss-Seidel method did not converge within the specified number of iterations.\")\n",
        "\n",
        "matrix = [[3, -0.1, -0.2, 7.85],\n",
        "          [0.1, 7, -0.3, -19.3],\n",
        "          [0.3, -0.2, 10, 71.4]]\n",
        "\n",
        "initial_guess = [0, 0, 0]\n",
        "\n",
        "solution = gauss_seidel(matrix, initial_guess)\n",
        "print(\"Solution:\", solution)"
      ],
      "metadata": {
        "colab": {
          "base_uri": "https://localhost:8080/"
        },
        "id": "ty3xCOnH4wVy",
        "outputId": "83793768-93ce-4a5e-9fc9-2564c0471385"
      },
      "execution_count": 2,
      "outputs": [
        {
          "output_type": "stream",
          "name": "stdout",
          "text": [
            "Solution: [2.9999999980555683, -2.500000000456044, 7.000000000049212]\n"
          ]
        }
      ]
    },
    {
      "cell_type": "code",
      "source": [
        "# write a program to estimate the value of a function for any intermediate value of the independent variable using Newton's Forward Interpolation method:\n",
        "\n",
        "def ForwardInterpolation(x, y, value):\n",
        "    if value < x[0] or value > x[-1]:\n",
        "        print(\"Given value is not intermediate..!\")\n",
        "        return None\n",
        "\n",
        "    h = x[1] - x[0]\n",
        "    p = (value - x[0]) / h\n",
        "\n",
        "    diff = [y]\n",
        "    result = y[0]\n",
        "    for i in range(1, len(x)):\n",
        "        diff.append([])\n",
        "        for j in range(len(x) - i):\n",
        "            diff[i].append(diff[i-1][j+1] - diff[i-1][j])\n",
        "\n",
        "        term = diff[i][0]\n",
        "        for j in range(i):\n",
        "            term *= (p - j) / (j + 1)\n",
        "        result += term\n",
        "\n",
        "    return result\n",
        "\n",
        "x = list(map(float, input(\"Enter the values of x (space-separated): \").split()))\n",
        "y = list(map(float, input(\"Enter the values of y (space-separated): \").split()))\n",
        "\n",
        "value = float(input(\"Enter the intermediate value to be found: \"))\n",
        "\n",
        "interpolated_value = ForwardInterpolation(x, y, value)\n",
        "\n",
        "if interpolated_value is not None:\n",
        "    print(\"Interpolated value:\", interpolated_value)"
      ],
      "metadata": {
        "colab": {
          "base_uri": "https://localhost:8080/"
        },
        "id": "Aubo88L142j0",
        "outputId": "145c547d-e49e-4761-8c99-eae247e37967"
      },
      "execution_count": 4,
      "outputs": [
        {
          "output_type": "stream",
          "name": "stdout",
          "text": [
            "Enter the values of x (space-separated): 0 1 2 3\n",
            "Enter the values of y (space-separated): 1 2 5 8\n",
            "Enter the intermediate value to be found: 1.5\n",
            "Interpolated value: 3.375\n"
          ]
        }
      ]
    },
    {
      "cell_type": "code",
      "source": [
        "# wap to estimate the value of a function for any intermediate value of the independent variable using lagrange interpolation method:\n",
        "\n",
        "def lagrange(x, y, value):\n",
        "    result = 0\n",
        "    for i in range(len(x)):\n",
        "        term = y[i]\n",
        "        for j in range(len(x)):\n",
        "            if j != i:\n",
        "                term *= (value - x[j]) / (x[i] - x[j])\n",
        "        result += term\n",
        "    return result\n",
        "\n",
        "x = list(map(float, input(\"Enter the values of x (space-separated): \").split()))\n",
        "y = list(map(float, input(\"Enter the values of y (space-separated): \").split()))\n",
        "\n",
        "value = float(input(\"Enter the intermediate value to be found: \"))\n",
        "\n",
        "interpolated_value = lagrange(x, y, value)\n",
        "\n",
        "print(\"Interpolated value:\", interpolated_value)"
      ],
      "metadata": {
        "colab": {
          "base_uri": "https://localhost:8080/"
        },
        "id": "mv8oJ4YT49m3",
        "outputId": "062e282a-3c64-4d3a-d9ac-9a0c1fd298b2"
      },
      "execution_count": 5,
      "outputs": [
        {
          "output_type": "stream",
          "name": "stdout",
          "text": [
            "Enter the values of x (space-separated): 0 1 2 3\n",
            "Enter the values of y (space-separated): 1 2 3 4\n",
            "Enter the intermediate value to be found: 1.5\n",
            "Interpolated value: 2.5\n"
          ]
        }
      ]
    },
    {
      "cell_type": "code",
      "source": [
        "#  Simpson's 1/3 rule\n",
        "\n",
        "def simpson1_3(x, y):\n",
        "    \"\"\"\n",
        "    Approximates the integral of f(x) using Simpson's 1/3 rule.\n",
        "\n",
        "    Parameters:\n",
        "        x: List of x values.\n",
        "        y: List of corresponding y values.\n",
        "\n",
        "    Returns:\n",
        "        Approximation of the integral.\n",
        "    \"\"\"\n",
        "    h = x[1] - x[0]\n",
        "    middle_term_4 = sum(y[i] for i in range(1, len(y) - 1, 2))\n",
        "    middle_term_2 = sum(y[i] for i in range(2, len(y) - 1, 2))\n",
        "    result = (h / 3) * (y[0] + 4 * middle_term_4 + 2 * middle_term_2 + y[-1])\n",
        "    return result\n",
        "\n",
        "# User input\n",
        "x = list(map(float, input(\"Enter the values of x (space-separated): \").split()))\n",
        "y = list(map(float, input(\"Enter the values of y (space-separated): \").split()))\n",
        "\n",
        "# Output\n",
        "print(\"Approximation of the integral:\", simpson1_3(x, y))\n"
      ],
      "metadata": {
        "colab": {
          "base_uri": "https://localhost:8080/"
        },
        "id": "Ein_kGwu8gV5",
        "outputId": "b4587720-c4f0-47fc-da5c-8068c498d077"
      },
      "execution_count": 10,
      "outputs": [
        {
          "output_type": "stream",
          "name": "stdout",
          "text": [
            "Enter the values of x (space-separated): 0 0.5 1 1.5\n",
            "Enter the values of y (space-separated): 1 0.6064 0.3676 0.2231 0.1353\n",
            "Approximation of the integral: 0.8647499999999999\n"
          ]
        }
      ]
    },
    {
      "cell_type": "code",
      "source": [
        "#  Simpson's 3/8 rule\n",
        "\n",
        "def simpson3_8(x, y):\n",
        "    \"\"\"\n",
        "    Approximates the integral of f(x) using Simpson's 3/8 rule.\n",
        "\n",
        "    Parameters:\n",
        "        x: List of x values.\n",
        "        y: List of corresponding y values.\n",
        "\n",
        "    Returns:\n",
        "        Approximation of the integral.\n",
        "    \"\"\"\n",
        "    h = x[1] - x[0]\n",
        "    middle_term_3 = sum(y[i] for i in range(1, len(y) - 1) if i % 3 != 0)\n",
        "    middle_term_2 = sum(y[i] for i in range(1, len(y) - 1) if i % 3 == 0)\n",
        "    result = ((3 * h) / 8) * (y[0] + 3 * middle_term_3 + 2 * middle_term_2 + y[-1])\n",
        "    return result\n",
        "\n",
        "# User input\n",
        "x = list(map(float, input(\"Enter the values of x (space-separated): \").split()))\n",
        "y = list(map(float, input(\"Enter the values of y (space-separated): \").split()))\n",
        "\n",
        "# Output\n",
        "print(\"Approximation of the integral:\", simpson3_8(x, y))\n"
      ],
      "metadata": {
        "colab": {
          "base_uri": "https://localhost:8080/"
        },
        "id": "Z3QzKrf087oB",
        "outputId": "d6f338e1-ccc9-4808-a9b9-8cee7da97828"
      },
      "execution_count": 11,
      "outputs": [
        {
          "output_type": "stream",
          "name": "stdout",
          "text": [
            "Enter the values of x (space-separated): 0 0.166 0.33 0.5 0.66 0.833 1\n",
            "Enter the values of y (space-separated): 1 0.97297 0.9 0.8 0.69230 0.59016 0.5\n",
            "Approximation of the integral: 0.7822515525\n"
          ]
        }
      ]
    }
  ]
}